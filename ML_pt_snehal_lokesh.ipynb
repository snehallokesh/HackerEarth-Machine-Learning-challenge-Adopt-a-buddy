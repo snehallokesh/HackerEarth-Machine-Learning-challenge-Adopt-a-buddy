{
  "nbformat": 4,
  "nbformat_minor": 0,
  "metadata": {
    "colab": {
      "name": "ML_adopt_pet_3.ipynb",
      "provenance": [],
      "collapsed_sections": []
    },
    "kernelspec": {
      "name": "python3",
      "display_name": "Python 3"
    }
  },
  "cells": [
    {
      "cell_type": "code",
      "metadata": {
        "id": "iNqMqPrN26ap",
        "colab_type": "code",
        "colab": {}
      },
      "source": [
        "import pandas as pd\n",
        "import numpy as np\n",
        "import matplotlib.pyplot as plt\n",
        "%matplotlib inline"
      ],
      "execution_count": 101,
      "outputs": []
    },
    {
      "cell_type": "code",
      "metadata": {
        "id": "EnQfiR-OF52C",
        "colab_type": "code",
        "colab": {}
      },
      "source": [
        "train = pd.read_csv('/content/drive/My Drive/Hackerearth/Adopt Pet/train.csv')\n",
        "test = pd.read_csv('/content/drive/My Drive/Hackerearth/Adopt Pet/test.csv')"
      ],
      "execution_count": 102,
      "outputs": []
    },
    {
      "cell_type": "code",
      "metadata": {
        "id": "aaHDrUyxFPun",
        "colab_type": "code",
        "colab": {
          "base_uri": "https://localhost:8080/",
          "height": 34
        },
        "outputId": "aa3ee86c-a80e-4218-e168-ed8cbf10e3b7"
      },
      "source": [
        "from google.colab import drive\n",
        "drive.mount('/content/drive')"
      ],
      "execution_count": 103,
      "outputs": [
        {
          "output_type": "stream",
          "text": [
            "Drive already mounted at /content/drive; to attempt to forcibly remount, call drive.mount(\"/content/drive\", force_remount=True).\n"
          ],
          "name": "stdout"
        }
      ]
    },
    {
      "cell_type": "code",
      "metadata": {
        "id": "0J_fcRaaF54w",
        "colab_type": "code",
        "colab": {
          "base_uri": "https://localhost:8080/",
          "height": 382
        },
        "outputId": "b1e164c3-9da9-47dd-9d5e-a4b655a52de6"
      },
      "source": [
        "train.isnull().sum(),test.isnull().sum()"
      ],
      "execution_count": 104,
      "outputs": [
        {
          "output_type": "execute_result",
          "data": {
            "text/plain": [
              "(pet_id               0\n",
              " issue_date           0\n",
              " listing_date         0\n",
              " condition         1477\n",
              " color_type           0\n",
              " length(m)            0\n",
              " height(cm)           0\n",
              " X1                   0\n",
              " X2                   0\n",
              " breed_category       0\n",
              " pet_category         0\n",
              " dtype: int64, pet_id            0\n",
              " issue_date        0\n",
              " listing_date      0\n",
              " condition       619\n",
              " color_type        0\n",
              " length(m)         0\n",
              " height(cm)        0\n",
              " X1                0\n",
              " X2                0\n",
              " dtype: int64)"
            ]
          },
          "metadata": {
            "tags": []
          },
          "execution_count": 104
        }
      ]
    },
    {
      "cell_type": "code",
      "metadata": {
        "id": "vmEUZpl6F58n",
        "colab_type": "code",
        "colab": {
          "base_uri": "https://localhost:8080/",
          "height": 382
        },
        "outputId": "4bcf6002-444a-446d-8dcd-d632543d9441"
      },
      "source": [
        "train.dtypes,test.dtypes"
      ],
      "execution_count": 105,
      "outputs": [
        {
          "output_type": "execute_result",
          "data": {
            "text/plain": [
              "(pet_id             object\n",
              " issue_date         object\n",
              " listing_date       object\n",
              " condition         float64\n",
              " color_type         object\n",
              " length(m)         float64\n",
              " height(cm)        float64\n",
              " X1                  int64\n",
              " X2                  int64\n",
              " breed_category    float64\n",
              " pet_category        int64\n",
              " dtype: object, pet_id           object\n",
              " issue_date       object\n",
              " listing_date     object\n",
              " condition       float64\n",
              " color_type       object\n",
              " length(m)       float64\n",
              " height(cm)      float64\n",
              " X1                int64\n",
              " X2                int64\n",
              " dtype: object)"
            ]
          },
          "metadata": {
            "tags": []
          },
          "execution_count": 105
        }
      ]
    },
    {
      "cell_type": "code",
      "metadata": {
        "id": "1AXNvpKxF6Cn",
        "colab_type": "code",
        "colab": {}
      },
      "source": [
        "k=['issue_date','listing_date']\n",
        "for i in k:\n",
        "  train[i] = pd.to_datetime(train[i])\n",
        "  test[i] = pd.to_datetime(test[i])"
      ],
      "execution_count": 106,
      "outputs": []
    },
    {
      "cell_type": "code",
      "metadata": {
        "id": "6ZF5jAmpHOba",
        "colab_type": "code",
        "colab": {}
      },
      "source": [
        "k2 = ['issue_date','listing_date']\n",
        "for i in k2:\n",
        "  test[i+'_'+'day'] = test[i].dt.day\n",
        "  test[i+'_'+'month'] = test[i].dt.month\n",
        "  test[i+'_'+'year'] =test[i].dt.year\n",
        "  test[i+'_'+'hour'] =test[i].dt.hour\n",
        "  test[i+'_'+'minute'] =test[i].dt.minute\n",
        "  test[i+'_'+'seconds'] =test[i].dt.second\n",
        "  test[i+'_'+'weekofyear'] = test[i].dt.weekofyear\n",
        "  test[i+'_'+'dayofweek'] =test[i].dt.dayofweek\n",
        "  test[i+'_'+'weekend'] = (test[i].dt.weekday >=5).astype(int)\n",
        "  train[i+'_'+'day'] = train[i].dt.day\n",
        "  train[i+'_'+'month'] = train[i].dt.month\n",
        "  train[i+'_'+'year'] =train[i].dt.year\n",
        "  train[i+'_'+'hour'] =train[i].dt.hour\n",
        "  train[i+'_'+'minute'] =train[i].dt.minute\n",
        "  train[i+'_'+'seconds'] =train[i].dt.second\n",
        "  train[i+'_'+'weekofyear'] = train[i].dt.weekofyear\n",
        "  train[i+'_'+'dayofweek'] =train[i].dt.dayofweek\n",
        "  train[i+'_'+'weekend'] = (train[i].dt.weekday >=5).astype(int)"
      ],
      "execution_count": 107,
      "outputs": []
    },
    {
      "cell_type": "code",
      "metadata": {
        "id": "yMaDfN-tIG_t",
        "colab_type": "code",
        "colab": {
          "base_uri": "https://localhost:8080/",
          "height": 313
        },
        "outputId": "f79d7dc8-5845-4d82-99cb-60f4fcb417fd"
      },
      "source": [
        "train.head()"
      ],
      "execution_count": 108,
      "outputs": [
        {
          "output_type": "execute_result",
          "data": {
            "text/html": [
              "<div>\n",
              "<style scoped>\n",
              "    .dataframe tbody tr th:only-of-type {\n",
              "        vertical-align: middle;\n",
              "    }\n",
              "\n",
              "    .dataframe tbody tr th {\n",
              "        vertical-align: top;\n",
              "    }\n",
              "\n",
              "    .dataframe thead th {\n",
              "        text-align: right;\n",
              "    }\n",
              "</style>\n",
              "<table border=\"1\" class=\"dataframe\">\n",
              "  <thead>\n",
              "    <tr style=\"text-align: right;\">\n",
              "      <th></th>\n",
              "      <th>pet_id</th>\n",
              "      <th>issue_date</th>\n",
              "      <th>listing_date</th>\n",
              "      <th>condition</th>\n",
              "      <th>color_type</th>\n",
              "      <th>length(m)</th>\n",
              "      <th>height(cm)</th>\n",
              "      <th>X1</th>\n",
              "      <th>X2</th>\n",
              "      <th>breed_category</th>\n",
              "      <th>pet_category</th>\n",
              "      <th>issue_date_day</th>\n",
              "      <th>issue_date_month</th>\n",
              "      <th>issue_date_year</th>\n",
              "      <th>issue_date_hour</th>\n",
              "      <th>issue_date_minute</th>\n",
              "      <th>issue_date_seconds</th>\n",
              "      <th>issue_date_weekofyear</th>\n",
              "      <th>issue_date_dayofweek</th>\n",
              "      <th>issue_date_weekend</th>\n",
              "      <th>listing_date_day</th>\n",
              "      <th>listing_date_month</th>\n",
              "      <th>listing_date_year</th>\n",
              "      <th>listing_date_hour</th>\n",
              "      <th>listing_date_minute</th>\n",
              "      <th>listing_date_seconds</th>\n",
              "      <th>listing_date_weekofyear</th>\n",
              "      <th>listing_date_dayofweek</th>\n",
              "      <th>listing_date_weekend</th>\n",
              "    </tr>\n",
              "  </thead>\n",
              "  <tbody>\n",
              "    <tr>\n",
              "      <th>0</th>\n",
              "      <td>ANSL_69903</td>\n",
              "      <td>2016-07-10</td>\n",
              "      <td>2016-09-21 16:25:00</td>\n",
              "      <td>2.0</td>\n",
              "      <td>Brown Tabby</td>\n",
              "      <td>0.80</td>\n",
              "      <td>7.78</td>\n",
              "      <td>13</td>\n",
              "      <td>9</td>\n",
              "      <td>0.0</td>\n",
              "      <td>1</td>\n",
              "      <td>10</td>\n",
              "      <td>7</td>\n",
              "      <td>2016</td>\n",
              "      <td>0</td>\n",
              "      <td>0</td>\n",
              "      <td>0</td>\n",
              "      <td>27</td>\n",
              "      <td>6</td>\n",
              "      <td>1</td>\n",
              "      <td>21</td>\n",
              "      <td>9</td>\n",
              "      <td>2016</td>\n",
              "      <td>16</td>\n",
              "      <td>25</td>\n",
              "      <td>0</td>\n",
              "      <td>38</td>\n",
              "      <td>2</td>\n",
              "      <td>0</td>\n",
              "    </tr>\n",
              "    <tr>\n",
              "      <th>1</th>\n",
              "      <td>ANSL_66892</td>\n",
              "      <td>2013-11-21</td>\n",
              "      <td>2018-12-27 17:47:00</td>\n",
              "      <td>1.0</td>\n",
              "      <td>White</td>\n",
              "      <td>0.72</td>\n",
              "      <td>14.19</td>\n",
              "      <td>13</td>\n",
              "      <td>9</td>\n",
              "      <td>0.0</td>\n",
              "      <td>2</td>\n",
              "      <td>21</td>\n",
              "      <td>11</td>\n",
              "      <td>2013</td>\n",
              "      <td>0</td>\n",
              "      <td>0</td>\n",
              "      <td>0</td>\n",
              "      <td>47</td>\n",
              "      <td>3</td>\n",
              "      <td>0</td>\n",
              "      <td>27</td>\n",
              "      <td>12</td>\n",
              "      <td>2018</td>\n",
              "      <td>17</td>\n",
              "      <td>47</td>\n",
              "      <td>0</td>\n",
              "      <td>52</td>\n",
              "      <td>3</td>\n",
              "      <td>0</td>\n",
              "    </tr>\n",
              "    <tr>\n",
              "      <th>2</th>\n",
              "      <td>ANSL_69750</td>\n",
              "      <td>2014-09-28</td>\n",
              "      <td>2016-10-19 08:24:00</td>\n",
              "      <td>NaN</td>\n",
              "      <td>Brown</td>\n",
              "      <td>0.15</td>\n",
              "      <td>40.90</td>\n",
              "      <td>15</td>\n",
              "      <td>4</td>\n",
              "      <td>2.0</td>\n",
              "      <td>4</td>\n",
              "      <td>28</td>\n",
              "      <td>9</td>\n",
              "      <td>2014</td>\n",
              "      <td>0</td>\n",
              "      <td>0</td>\n",
              "      <td>0</td>\n",
              "      <td>39</td>\n",
              "      <td>6</td>\n",
              "      <td>1</td>\n",
              "      <td>19</td>\n",
              "      <td>10</td>\n",
              "      <td>2016</td>\n",
              "      <td>8</td>\n",
              "      <td>24</td>\n",
              "      <td>0</td>\n",
              "      <td>42</td>\n",
              "      <td>2</td>\n",
              "      <td>0</td>\n",
              "    </tr>\n",
              "    <tr>\n",
              "      <th>3</th>\n",
              "      <td>ANSL_71623</td>\n",
              "      <td>2016-12-31</td>\n",
              "      <td>2019-01-25 18:30:00</td>\n",
              "      <td>1.0</td>\n",
              "      <td>White</td>\n",
              "      <td>0.62</td>\n",
              "      <td>17.82</td>\n",
              "      <td>0</td>\n",
              "      <td>1</td>\n",
              "      <td>0.0</td>\n",
              "      <td>2</td>\n",
              "      <td>31</td>\n",
              "      <td>12</td>\n",
              "      <td>2016</td>\n",
              "      <td>0</td>\n",
              "      <td>0</td>\n",
              "      <td>0</td>\n",
              "      <td>52</td>\n",
              "      <td>5</td>\n",
              "      <td>1</td>\n",
              "      <td>25</td>\n",
              "      <td>1</td>\n",
              "      <td>2019</td>\n",
              "      <td>18</td>\n",
              "      <td>30</td>\n",
              "      <td>0</td>\n",
              "      <td>4</td>\n",
              "      <td>4</td>\n",
              "      <td>0</td>\n",
              "    </tr>\n",
              "    <tr>\n",
              "      <th>4</th>\n",
              "      <td>ANSL_57969</td>\n",
              "      <td>2017-09-28</td>\n",
              "      <td>2017-11-19 09:38:00</td>\n",
              "      <td>2.0</td>\n",
              "      <td>Black</td>\n",
              "      <td>0.50</td>\n",
              "      <td>11.06</td>\n",
              "      <td>18</td>\n",
              "      <td>4</td>\n",
              "      <td>0.0</td>\n",
              "      <td>1</td>\n",
              "      <td>28</td>\n",
              "      <td>9</td>\n",
              "      <td>2017</td>\n",
              "      <td>0</td>\n",
              "      <td>0</td>\n",
              "      <td>0</td>\n",
              "      <td>39</td>\n",
              "      <td>3</td>\n",
              "      <td>0</td>\n",
              "      <td>19</td>\n",
              "      <td>11</td>\n",
              "      <td>2017</td>\n",
              "      <td>9</td>\n",
              "      <td>38</td>\n",
              "      <td>0</td>\n",
              "      <td>46</td>\n",
              "      <td>6</td>\n",
              "      <td>1</td>\n",
              "    </tr>\n",
              "  </tbody>\n",
              "</table>\n",
              "</div>"
            ],
            "text/plain": [
              "       pet_id issue_date  ... listing_date_dayofweek  listing_date_weekend\n",
              "0  ANSL_69903 2016-07-10  ...                      2                     0\n",
              "1  ANSL_66892 2013-11-21  ...                      3                     0\n",
              "2  ANSL_69750 2014-09-28  ...                      2                     0\n",
              "3  ANSL_71623 2016-12-31  ...                      4                     0\n",
              "4  ANSL_57969 2017-09-28  ...                      6                     1\n",
              "\n",
              "[5 rows x 29 columns]"
            ]
          },
          "metadata": {
            "tags": []
          },
          "execution_count": 108
        }
      ]
    },
    {
      "cell_type": "code",
      "metadata": {
        "id": "9Ch4bihXF6Fo",
        "colab_type": "code",
        "colab": {}
      },
      "source": [
        "from sklearn.impute import KNNImputer\n",
        "imputer = KNNImputer()\n",
        "l=['condition']\n",
        "for i in l:\n",
        "  train[i]=train[i].fillna(-99)\n",
        "  test[i]=test[i].fillna(-99)"
      ],
      "execution_count": 109,
      "outputs": []
    },
    {
      "cell_type": "code",
      "metadata": {
        "id": "TBHV2PqwJZQ0",
        "colab_type": "code",
        "colab": {}
      },
      "source": [
        "train['diff_days'] = (train['listing_date'] - train['issue_date']).dt.days\n",
        "train['number_months'] = ((train.listing_date - train.issue_date)/np.timedelta64(1, 'M')).astype('int')\n",
        "train['number_year'] = ((train.listing_date - train.issue_date)/np.timedelta64(1, 'Y')).astype('int')\n",
        "test['diff_days'] = (test['listing_date'] - test['issue_date']).dt.days\n",
        "test['number_months'] = ((test.listing_date - test.issue_date)/np.timedelta64(1, 'M')).astype('int')\n",
        "test['number_year'] = ((test.listing_date - test.issue_date)/np.timedelta64(1, 'Y')).astype('int')"
      ],
      "execution_count": 110,
      "outputs": []
    },
    {
      "cell_type": "code",
      "metadata": {
        "id": "0ci52yuVJZU9",
        "colab_type": "code",
        "colab": {}
      },
      "source": [
        "train2 = train.copy()\n",
        "test2 = test.copy()"
      ],
      "execution_count": 111,
      "outputs": []
    },
    {
      "cell_type": "code",
      "metadata": {
        "id": "kWTC-q-DJZX3",
        "colab_type": "code",
        "colab": {}
      },
      "source": [
        "del train2['listing_date']\n",
        "del train2['issue_date']\n",
        "del test2['listing_date']\n",
        "del test2['issue_date']"
      ],
      "execution_count": 112,
      "outputs": []
    },
    {
      "cell_type": "code",
      "metadata": {
        "id": "s0SqIMZbs3ZE",
        "colab_type": "code",
        "colab": {
          "base_uri": "https://localhost:8080/",
          "height": 181
        },
        "outputId": "25866b6c-79ae-4534-97f7-22875c29b66b"
      },
      "source": [
        "train2.head(3)"
      ],
      "execution_count": 113,
      "outputs": [
        {
          "output_type": "execute_result",
          "data": {
            "text/html": [
              "<div>\n",
              "<style scoped>\n",
              "    .dataframe tbody tr th:only-of-type {\n",
              "        vertical-align: middle;\n",
              "    }\n",
              "\n",
              "    .dataframe tbody tr th {\n",
              "        vertical-align: top;\n",
              "    }\n",
              "\n",
              "    .dataframe thead th {\n",
              "        text-align: right;\n",
              "    }\n",
              "</style>\n",
              "<table border=\"1\" class=\"dataframe\">\n",
              "  <thead>\n",
              "    <tr style=\"text-align: right;\">\n",
              "      <th></th>\n",
              "      <th>pet_id</th>\n",
              "      <th>condition</th>\n",
              "      <th>color_type</th>\n",
              "      <th>length(m)</th>\n",
              "      <th>height(cm)</th>\n",
              "      <th>X1</th>\n",
              "      <th>X2</th>\n",
              "      <th>breed_category</th>\n",
              "      <th>pet_category</th>\n",
              "      <th>issue_date_day</th>\n",
              "      <th>issue_date_month</th>\n",
              "      <th>issue_date_year</th>\n",
              "      <th>issue_date_hour</th>\n",
              "      <th>issue_date_minute</th>\n",
              "      <th>issue_date_seconds</th>\n",
              "      <th>issue_date_weekofyear</th>\n",
              "      <th>issue_date_dayofweek</th>\n",
              "      <th>issue_date_weekend</th>\n",
              "      <th>listing_date_day</th>\n",
              "      <th>listing_date_month</th>\n",
              "      <th>listing_date_year</th>\n",
              "      <th>listing_date_hour</th>\n",
              "      <th>listing_date_minute</th>\n",
              "      <th>listing_date_seconds</th>\n",
              "      <th>listing_date_weekofyear</th>\n",
              "      <th>listing_date_dayofweek</th>\n",
              "      <th>listing_date_weekend</th>\n",
              "      <th>diff_days</th>\n",
              "      <th>number_months</th>\n",
              "      <th>number_year</th>\n",
              "    </tr>\n",
              "  </thead>\n",
              "  <tbody>\n",
              "    <tr>\n",
              "      <th>0</th>\n",
              "      <td>ANSL_69903</td>\n",
              "      <td>2.0</td>\n",
              "      <td>Brown Tabby</td>\n",
              "      <td>0.80</td>\n",
              "      <td>7.78</td>\n",
              "      <td>13</td>\n",
              "      <td>9</td>\n",
              "      <td>0.0</td>\n",
              "      <td>1</td>\n",
              "      <td>10</td>\n",
              "      <td>7</td>\n",
              "      <td>2016</td>\n",
              "      <td>0</td>\n",
              "      <td>0</td>\n",
              "      <td>0</td>\n",
              "      <td>27</td>\n",
              "      <td>6</td>\n",
              "      <td>1</td>\n",
              "      <td>21</td>\n",
              "      <td>9</td>\n",
              "      <td>2016</td>\n",
              "      <td>16</td>\n",
              "      <td>25</td>\n",
              "      <td>0</td>\n",
              "      <td>38</td>\n",
              "      <td>2</td>\n",
              "      <td>0</td>\n",
              "      <td>73</td>\n",
              "      <td>2</td>\n",
              "      <td>0</td>\n",
              "    </tr>\n",
              "    <tr>\n",
              "      <th>1</th>\n",
              "      <td>ANSL_66892</td>\n",
              "      <td>1.0</td>\n",
              "      <td>White</td>\n",
              "      <td>0.72</td>\n",
              "      <td>14.19</td>\n",
              "      <td>13</td>\n",
              "      <td>9</td>\n",
              "      <td>0.0</td>\n",
              "      <td>2</td>\n",
              "      <td>21</td>\n",
              "      <td>11</td>\n",
              "      <td>2013</td>\n",
              "      <td>0</td>\n",
              "      <td>0</td>\n",
              "      <td>0</td>\n",
              "      <td>47</td>\n",
              "      <td>3</td>\n",
              "      <td>0</td>\n",
              "      <td>27</td>\n",
              "      <td>12</td>\n",
              "      <td>2018</td>\n",
              "      <td>17</td>\n",
              "      <td>47</td>\n",
              "      <td>0</td>\n",
              "      <td>52</td>\n",
              "      <td>3</td>\n",
              "      <td>0</td>\n",
              "      <td>1862</td>\n",
              "      <td>61</td>\n",
              "      <td>5</td>\n",
              "    </tr>\n",
              "    <tr>\n",
              "      <th>2</th>\n",
              "      <td>ANSL_69750</td>\n",
              "      <td>-99.0</td>\n",
              "      <td>Brown</td>\n",
              "      <td>0.15</td>\n",
              "      <td>40.90</td>\n",
              "      <td>15</td>\n",
              "      <td>4</td>\n",
              "      <td>2.0</td>\n",
              "      <td>4</td>\n",
              "      <td>28</td>\n",
              "      <td>9</td>\n",
              "      <td>2014</td>\n",
              "      <td>0</td>\n",
              "      <td>0</td>\n",
              "      <td>0</td>\n",
              "      <td>39</td>\n",
              "      <td>6</td>\n",
              "      <td>1</td>\n",
              "      <td>19</td>\n",
              "      <td>10</td>\n",
              "      <td>2016</td>\n",
              "      <td>8</td>\n",
              "      <td>24</td>\n",
              "      <td>0</td>\n",
              "      <td>42</td>\n",
              "      <td>2</td>\n",
              "      <td>0</td>\n",
              "      <td>752</td>\n",
              "      <td>24</td>\n",
              "      <td>2</td>\n",
              "    </tr>\n",
              "  </tbody>\n",
              "</table>\n",
              "</div>"
            ],
            "text/plain": [
              "       pet_id  condition   color_type  ...  diff_days  number_months  number_year\n",
              "0  ANSL_69903        2.0  Brown Tabby  ...         73              2            0\n",
              "1  ANSL_66892        1.0        White  ...       1862             61            5\n",
              "2  ANSL_69750      -99.0        Brown  ...        752             24            2\n",
              "\n",
              "[3 rows x 30 columns]"
            ]
          },
          "metadata": {
            "tags": []
          },
          "execution_count": 113
        }
      ]
    },
    {
      "cell_type": "code",
      "metadata": {
        "id": "51yfXop3N7LJ",
        "colab_type": "code",
        "colab": {}
      },
      "source": [
        "#train2['length(cm)'] = train2['length(m)'].apply(lambda x: x*100 )\n",
        "#test2['length(cm)'] = test2['length(m)'].apply(lambda x: x*100 )\n",
        "#del train2['length(m)']\n",
        "#del test2['length(m)']\n",
        "train2['height(m)'] = train2['height(cm)'].apply(lambda x: x/100 )\n",
        "test2['height(m)'] = test2['height(cm)'].apply(lambda x: x/100 )"
      ],
      "execution_count": 114,
      "outputs": []
    },
    {
      "cell_type": "code",
      "metadata": {
        "id": "TSK1KVCqa7ay",
        "colab_type": "code",
        "colab": {}
      },
      "source": [
        "del train2['height(cm)']\n",
        "del test2['height(cm)']"
      ],
      "execution_count": 115,
      "outputs": []
    },
    {
      "cell_type": "code",
      "metadata": {
        "id": "0PByxv_1vffa",
        "colab_type": "code",
        "colab": {}
      },
      "source": [
        "from sklearn.cluster import KMeans\n",
        "km = KMeans(n_clusters=4)\n",
        "train2['height_bin'] = km.fit_predict(train2[['height(m)']])\n",
        "train2['length_bin'] = km.fit_predict(train2[['length(m)']])\n",
        "test2['height_bin'] = km.fit_predict(test2[['height(m)']])\n",
        "test2['length_bin'] = km.fit_predict(test2[['length(m)']])"
      ],
      "execution_count": 116,
      "outputs": []
    },
    {
      "cell_type": "code",
      "metadata": {
        "id": "OwIqE3jpN7Nt",
        "colab_type": "code",
        "colab": {}
      },
      "source": [
        "train2['area'] = train2['length(m)'] * train2['height(m)']\n",
        "test2['area'] = test2['length(m)'] * test2['height(m)']\n",
        "train2['X_mean'] = train2[['X1', 'X2']].mean(axis=1)\n",
        "test2['X_mean'] = test2[['X1', 'X2']].mean(axis=1)\n",
        "train2['X_median'] = train2[['X1', 'X2']].median(axis=1)\n",
        "test2['X_median'] = test2[['X1', 'X2']].median(axis=1)\n",
        "train2['X_product'] = train2['X1'] * train2['X2']\n",
        "test2['X_product'] = test2['X1'] * test2['X2']"
      ],
      "execution_count": 117,
      "outputs": []
    },
    {
      "cell_type": "code",
      "metadata": {
        "id": "-ZQ7GWJgN7UY",
        "colab_type": "code",
        "colab": {}
      },
      "source": [
        "c=['color_type','condition','listing_date_year','issue_date_year']\n",
        "for i in c:\n",
        "  loc = np.append(train2[i].values, test2[i].values, axis=0)\n",
        "  from sklearn.preprocessing import LabelEncoder\n",
        "  l=LabelEncoder()\n",
        "  l.fit(list(set(loc)))\n",
        "  train2[i]=l.transform(train2[i])\n",
        "  test2[i]=l.transform(test2[i])"
      ],
      "execution_count": 118,
      "outputs": []
    },
    {
      "cell_type": "code",
      "metadata": {
        "id": "d1WrTRd6N7Yt",
        "colab_type": "code",
        "colab": {}
      },
      "source": [
        "y1 = train2['breed_category']\n",
        "y2 = train2['pet_category']\n",
        "X = train2.drop(columns=['pet_id', 'breed_category','pet_category'])"
      ],
      "execution_count": 119,
      "outputs": []
    },
    {
      "cell_type": "code",
      "metadata": {
        "id": "aU9oWo0yN7bS",
        "colab_type": "code",
        "colab": {}
      },
      "source": [
        "from sklearn.ensemble import RandomForestClassifier\n",
        "from sklearn.model_selection import cross_val_score\n",
        "from xgboost import XGBClassifier\n",
        "from sklearn.ensemble import ExtraTreesClassifier, AdaBoostClassifier\n",
        "from sklearn.linear_model import LogisticRegression \n",
        "from sklearn.neighbors import KNeighborsClassifier\n",
        "from sklearn.svm import LinearSVC\n",
        "from lightgbm import LGBMClassifier\n",
        "from sklearn.tree import DecisionTreeClassifier\n",
        "from sklearn.model_selection import StratifiedKFold, learning_curve, ShuffleSplit\n",
        "from sklearn.preprocessing import StandardScaler\n",
        "from sklearn.pipeline import Pipeline\n",
        "from sklearn.ensemble import VotingClassifier, IsolationForest\n",
        "from sklearn.model_selection import train_test_split\n",
        "from sklearn.metrics import f1_score\n",
        "from sklearn.metrics import accuracy_score\n",
        "from sklearn.neural_network import MLPClassifier\n",
        "from sklearn.naive_bayes import BernoulliNB\n",
        "from sklearn.metrics import confusion_matrix"
      ],
      "execution_count": 120,
      "outputs": []
    },
    {
      "cell_type": "code",
      "metadata": {
        "id": "9zxfkInh1IE_",
        "colab_type": "code",
        "colab": {}
      },
      "source": [
        "id = test2['pet_id']\n",
        "test_final = test2.drop(columns=['pet_id'])"
      ],
      "execution_count": 121,
      "outputs": []
    },
    {
      "cell_type": "code",
      "metadata": {
        "id": "YGTsdRb9owHc",
        "colab_type": "code",
        "colab": {}
      },
      "source": [
        "pet = X.copy()\n",
        "temp = pet.groupby(['condition']).agg({'X1':['mean','sum','median'],\n",
        "                                         'X2': ['mean','sum','median'],\n",
        "                                         'length(m)': ['mean','sum','median'],\n",
        "                                         'height(m)': ['mean','sum','median'],\n",
        "                                         'condition': ['mean','sum','median'],\n",
        "                                         'color_type': ['sum']})\n",
        "temp.columns = temp.columns.map('_'.join)\n",
        "temp1 = temp.reset_index()\n",
        "pet = pd.merge(pet, temp1, on='condition', how='left')"
      ],
      "execution_count": 122,
      "outputs": []
    },
    {
      "cell_type": "code",
      "metadata": {
        "id": "L6AIf3yaYg3s",
        "colab_type": "code",
        "colab": {}
      },
      "source": [
        "pet_train = pet.copy()\n",
        "#features = ['diff_days','color_type','condition','X_mean','X_product','number_months','X1','issue_date_month']\n",
        "#feat2 = ['diff_days','color_type','X_mean','X_product','number_months','X1','issue_date_month','X2','listing_date_hour','number_year']\n",
        "test2 = ['color_type','diff_days','number_months','X1','issue_date_weekofyear','issue_date_month','condition','X_mean','X_median']  \n",
        "pet_train = pet_train[test2]"
      ],
      "execution_count": 123,
      "outputs": []
    },
    {
      "cell_type": "code",
      "metadata": {
        "id": "YiXBj-hImUWj",
        "colab_type": "code",
        "colab": {}
      },
      "source": [
        "X_test_pet = test_final[test2]"
      ],
      "execution_count": 124,
      "outputs": []
    },
    {
      "cell_type": "code",
      "metadata": {
        "id": "rE79zZO4N7fg",
        "colab_type": "code",
        "colab": {}
      },
      "source": [
        "# features = ['diff_days','color_type','condition','X1','X2']  #900 0.6 \n",
        "#lgbmc2 = LGBMClassifier(random_state=101, n_estimators=900, colsample_bytree=0.6, max_depth=31,  objective='multiclass',\n",
        "#                       learning_rate=0.01,reg_alpha=0, reg_lambda=1, boosting_type='gbdt')\n",
        "#cross_val_score(lgbmc2, pet_train, y2, cv=5, n_jobs=-1, verbose=1, scoring='f1_weighted').mean()"
      ],
      "execution_count": 125,
      "outputs": []
    },
    {
      "cell_type": "code",
      "metadata": {
        "id": "bPKO-hpwr6Yg",
        "colab_type": "code",
        "colab": {}
      },
      "source": [
        "#lgbmc2.fit(pet_train,y2)\n",
        "#pred2 = lgbmc2.predict(X_test_pet)"
      ],
      "execution_count": 126,
      "outputs": []
    },
    {
      "cell_type": "code",
      "metadata": {
        "id": "5c4mesf0l0OH",
        "colab_type": "code",
        "colab": {
          "base_uri": "https://localhost:8080/",
          "height": 191
        },
        "outputId": "66e227f2-3ebd-421a-a667-ead255d79d9b"
      },
      "source": [
        "from sklearn.model_selection import KFold,StratifiedKFold\n",
        "\n",
        "errcat2 = []\n",
        "y_pred_totcat2 = []\n",
        "\n",
        "fold = StratifiedKFold(n_splits=10, shuffle=True, random_state=101)\n",
        "\n",
        "for train_index, test_index in fold.split(pet_train,y2):\n",
        "    X_train, X_test = pet_train.loc[train_index], pet_train.loc[test_index]\n",
        "    y_train, y_test = y2[train_index], y2[test_index]\n",
        "    \n",
        "    lg1 = LGBMClassifier(random_state=101, n_estimators=900, colsample_bytree=0.6, max_depth=31,  objective='multiclass',\n",
        "                       learning_rate=0.01,reg_alpha=0, reg_lambda=1, boosting_type='gbdt')\n",
        "    lg1.fit(X_train, y_train, eval_set=[(X_test, y_test)], verbose=0, early_stopping_rounds=200)\n",
        "\n",
        "    y_pred_cat = lg1.predict(X_test)\n",
        "    print(\"Accuracy: \", accuracy_score(y_test,y_pred_cat))\n",
        "\n",
        "    errcat2.append(accuracy_score(y_test,y_pred_cat))\n",
        "    p = lg1.predict(X_test_pet)\n",
        "    y_pred_totcat2.append(p)"
      ],
      "execution_count": 127,
      "outputs": [
        {
          "output_type": "stream",
          "text": [
            "Accuracy:  0.9087048832271762\n",
            "Accuracy:  0.9012738853503185\n",
            "Accuracy:  0.9156050955414012\n",
            "Accuracy:  0.9065817409766455\n",
            "Accuracy:  0.9208709506107275\n",
            "Accuracy:  0.9070631970260223\n",
            "Accuracy:  0.9166224110462029\n",
            "Accuracy:  0.9123738714816781\n",
            "Accuracy:  0.9081253319171535\n",
            "Accuracy:  0.9033457249070632\n"
          ],
          "name": "stdout"
        }
      ]
    },
    {
      "cell_type": "code",
      "metadata": {
        "id": "zIvWWtHvl0Tj",
        "colab_type": "code",
        "colab": {
          "base_uri": "https://localhost:8080/",
          "height": 34
        },
        "outputId": "67639edf-211a-46cc-dc74-fcf0ffc1d5a6"
      },
      "source": [
        "np.mean(errcat2,0)"
      ],
      "execution_count": 128,
      "outputs": [
        {
          "output_type": "execute_result",
          "data": {
            "text/plain": [
              "0.910056709208439"
            ]
          },
          "metadata": {
            "tags": []
          },
          "execution_count": 128
        }
      ]
    },
    {
      "cell_type": "code",
      "metadata": {
        "id": "pvQWs2WAl0YB",
        "colab_type": "code",
        "colab": {
          "base_uri": "https://localhost:8080/",
          "height": 34
        },
        "outputId": "42bd1377-f472-4a74-fbd2-9cf5601b9345"
      },
      "source": [
        "lg_final2 = np.squeeze(np.mean(y_pred_totcat2,0).astype(int))\n",
        "lg_final2"
      ],
      "execution_count": 129,
      "outputs": [
        {
          "output_type": "execute_result",
          "data": {
            "text/plain": [
              "array([2, 1, 2, ..., 2, 4, 2])"
            ]
          },
          "metadata": {
            "tags": []
          },
          "execution_count": 129
        }
      ]
    },
    {
      "cell_type": "code",
      "metadata": {
        "id": "jlXLvHcvM5jN",
        "colab_type": "code",
        "colab": {}
      },
      "source": [
        "breed = X.copy()\n",
        "temp3 = breed.groupby(['condition']).agg({'X1':['mean','sum','median'],\n",
        "                                         'X2': ['mean','sum','median'],\n",
        "                                         'length(m)': ['mean','sum','median'],\n",
        "                                         'height(m)': ['mean','sum','median'],\n",
        "                                         'condition': ['mean','sum','median'],\n",
        "                                         'color_type': ['sum']})\n",
        "temp3.columns = temp3.columns.map('_'.join)\n",
        "temp4 = temp3.reset_index()\n",
        "breed = pd.merge(breed, temp4, on='condition', how='left')"
      ],
      "execution_count": 130,
      "outputs": []
    },
    {
      "cell_type": "code",
      "metadata": {
        "id": "yTFqIEJkkc8j",
        "colab_type": "code",
        "colab": {}
      },
      "source": [
        "breed_train = breed.copy()\n",
        "features2 = ['length(m)', 'color_type','height(m)','condition','listing_date_day','area', 'issue_date_day','diff_days','listing_date_minute']\n",
        "breed_train = breed_train[features2]"
      ],
      "execution_count": 131,
      "outputs": []
    },
    {
      "cell_type": "code",
      "metadata": {
        "id": "vI9MhknjmjY7",
        "colab_type": "code",
        "colab": {}
      },
      "source": [
        "X_test_breed = test_final[features2]"
      ],
      "execution_count": 132,
      "outputs": []
    },
    {
      "cell_type": "code",
      "metadata": {
        "id": "DZ5MIu8tXIZZ",
        "colab_type": "code",
        "colab": {}
      },
      "source": [
        "#lgbmc1 = LGBMClassifier(random_state=42, n_estimators=100, colsample_bytree=0.8, max_depth=31,  objective='multiclass',\n",
        "#                       learning_rate=0.01,reg_alpha=0, reg_lambda=1, boosting_type='gbdt')\n",
        "#cross_val_score(lgbmc1, breed_train, y1, cv=5, n_jobs=-1, verbose=1, scoring='f1_weighted').mean()"
      ],
      "execution_count": 133,
      "outputs": []
    },
    {
      "cell_type": "code",
      "metadata": {
        "id": "mJslmQODXIbU",
        "colab_type": "code",
        "colab": {}
      },
      "source": [
        "#lgbmc1.fit(breed_train,y1)\n",
        "#pred1 = lgbmc1.predict(X_test_breed)"
      ],
      "execution_count": 134,
      "outputs": []
    },
    {
      "cell_type": "code",
      "metadata": {
        "id": "ejxfgGVwBV8-",
        "colab_type": "code",
        "colab": {
          "base_uri": "https://localhost:8080/",
          "height": 191
        },
        "outputId": "611fb720-f932-42c3-fe1e-f227a3f4aa1f"
      },
      "source": [
        "from sklearn.model_selection import KFold,StratifiedKFold\n",
        "\n",
        "errcat1 = []\n",
        "y_pred_totcat1 = []\n",
        "\n",
        "fold = StratifiedKFold(n_splits=10, shuffle=True, random_state=101)\n",
        "\n",
        "for train_index, test_index in fold.split(breed_train,y1):\n",
        "    X_train, X_test = breed_train.loc[train_index], breed_train.loc[test_index]\n",
        "    y_train, y_test = y1[train_index], y1[test_index]\n",
        "    \n",
        "    lg2 = LGBMClassifier(random_state=101, n_estimators=100, colsample_bytree=0.9, max_depth=31,  objective='multiclass',\n",
        "                       learning_rate=0.01,reg_alpha=0, reg_lambda=1, boosting_type='gbdt')\n",
        "    lg2.fit(X_train, y_train, eval_set=[(X_test, y_test)], verbose=0, early_stopping_rounds=200)\n",
        "\n",
        "    y_pred_cat = lg2.predict(X_test)\n",
        "    print(\"Accuracy: \", accuracy_score(y_test,y_pred_cat))\n",
        "\n",
        "    errcat1.append(accuracy_score(y_test,y_pred_cat))\n",
        "    p = lg2.predict(X_test_breed)\n",
        "    y_pred_totcat1.append(p)"
      ],
      "execution_count": 141,
      "outputs": [
        {
          "output_type": "stream",
          "text": [
            "Accuracy:  0.8959660297239915\n",
            "Accuracy:  0.8938428874734607\n",
            "Accuracy:  0.9028662420382165\n",
            "Accuracy:  0.910828025477707\n",
            "Accuracy:  0.9054699946893255\n",
            "Accuracy:  0.9049389272437599\n",
            "Accuracy:  0.9102496016994158\n",
            "Accuracy:  0.9054699946893255\n",
            "Accuracy:  0.893255443441317\n",
            "Accuracy:  0.8948486457780138\n"
          ],
          "name": "stdout"
        }
      ]
    },
    {
      "cell_type": "code",
      "metadata": {
        "id": "DyohB6RcDFTo",
        "colab_type": "code",
        "colab": {
          "base_uri": "https://localhost:8080/",
          "height": 34
        },
        "outputId": "da768682-ae48-40ad-c6c6-0fdfb06d30b2"
      },
      "source": [
        "np.mean(errcat1,0)"
      ],
      "execution_count": 142,
      "outputs": [
        {
          "output_type": "execute_result",
          "data": {
            "text/plain": [
              "0.9017735792254534"
            ]
          },
          "metadata": {
            "tags": []
          },
          "execution_count": 142
        }
      ]
    },
    {
      "cell_type": "code",
      "metadata": {
        "id": "ZSRBFHRwCvdg",
        "colab_type": "code",
        "colab": {
          "base_uri": "https://localhost:8080/",
          "height": 34
        },
        "outputId": "27419449-2756-49f9-c029-c63028cbc1e1"
      },
      "source": [
        "lg_final1 = np.squeeze(np.mean(y_pred_totcat1,0).astype(int))\n",
        "lg_final1"
      ],
      "execution_count": 143,
      "outputs": [
        {
          "output_type": "execute_result",
          "data": {
            "text/plain": [
              "array([1, 0, 0, ..., 1, 2, 1])"
            ]
          },
          "metadata": {
            "tags": []
          },
          "execution_count": 143
        }
      ]
    },
    {
      "cell_type": "code",
      "metadata": {
        "id": "KdTkUeWZXIgr",
        "colab_type": "code",
        "colab": {
          "base_uri": "https://localhost:8080/",
          "height": 729
        },
        "outputId": "b33a3548-0a9a-423d-81fb-f9d0363b38bb"
      },
      "source": [
        "import seaborn as sns\n",
        "feature_imp = pd.DataFrame(sorted(zip(lg1.feature_importances_, breed_train.columns), reverse=True)[:50], \n",
        "                           columns=['Value','Feature'])\n",
        "plt.figure(figsize=(12, 10))\n",
        "sns.barplot(x=\"Value\", y=\"Feature\", data=feature_imp.sort_values(by=\"Value\", ascending=False))\n",
        "plt.title('LightGBM Features')\n",
        "plt.tight_layout()\n",
        "plt.show()"
      ],
      "execution_count": null,
      "outputs": [
        {
          "output_type": "display_data",
          "data": {
            "image/png": "[encoded data removed]",
            "text/plain": [
              "<Figure size 864x720 with 1 Axes>"
            ]
          },
          "metadata": {
            "tags": [],
            "needs_background": "light"
          }
        }
      ]
    },
    {
      "cell_type": "code",
      "metadata": {
        "id": "rfoJWfPsXIqV",
        "colab_type": "code",
        "colab": {}
      },
      "source": [
        "sub = pd.DataFrame(data={'pet_id' : id, 'breed_category' : lg_final1, 'pet_category': lg_final2})\n",
        "sub.to_csv('submission.csv', index=False)"
      ],
      "execution_count": 144,
      "outputs": []
    },
    {
      "cell_type": "code",
      "metadata": {
        "id": "mSBCe6jUXIlC",
        "colab_type": "code",
        "colab": {
          "base_uri": "https://localhost:8080/",
          "height": 17
        },
        "outputId": "31e7795e-f88a-4091-d256-fa3ef39e37c2"
      },
      "source": [
        "from google.colab import files\n",
        "files.download('submission.csv')"
      ],
      "execution_count": 145,
      "outputs": [
        {
          "output_type": "display_data",
          "data": {
            "application/javascript": [
              "\n",
              "    async function download(id, filename, size) {\n",
              "      if (!google.colab.kernel.accessAllowed) {\n",
              "        return;\n",
              "      }\n",
              "      const div = document.createElement('div');\n",
              "      const label = document.createElement('label');\n",
              "      label.textContent = `Downloading \"${filename}\": `;\n",
              "      div.appendChild(label);\n",
              "      const progress = document.createElement('progress');\n",
              "      progress.max = size;\n",
              "      div.appendChild(progress);\n",
              "      document.body.appendChild(div);\n",
              "\n",
              "      const buffers = [];\n",
              "      let downloaded = 0;\n",
              "\n",
              "      const channel = await google.colab.kernel.comms.open(id);\n",
              "      // Send a message to notify the kernel that we're ready.\n",
              "      channel.send({})\n",
              "\n",
              "      for await (const message of channel.messages) {\n",
              "        // Send a message to notify the kernel that we're ready.\n",
              "        channel.send({})\n",
              "        if (message.buffers) {\n",
              "          for (const buffer of message.buffers) {\n",
              "            buffers.push(buffer);\n",
              "            downloaded += buffer.byteLength;\n",
              "            progress.value = downloaded;\n",
              "          }\n",
              "        }\n",
              "      }\n",
              "      const blob = new Blob(buffers, {type: 'application/binary'});\n",
              "      const a = document.createElement('a');\n",
              "      a.href = window.URL.createObjectURL(blob);\n",
              "      a.download = filename;\n",
              "      div.appendChild(a);\n",
              "      a.click();\n",
              "      div.remove();\n",
              "    }\n",
              "  "
            ],
            "text/plain": [
              "<IPython.core.display.Javascript object>"
            ]
          },
          "metadata": {
            "tags": []
          }
        },
        {
          "output_type": "display_data",
          "data": {
            "application/javascript": [
              "download(\"download_0639c052-b2ee-42c2-baf9-039502d7e210\", \"submission.csv\", 121115)"
            ],
            "text/plain": [
              "<IPython.core.display.Javascript object>"
            ]
          },
          "metadata": {
            "tags": []
          }
        }
      ]
    }
  ]
}